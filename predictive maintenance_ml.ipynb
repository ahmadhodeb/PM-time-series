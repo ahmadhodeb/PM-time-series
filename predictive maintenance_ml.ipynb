{
 "cells": [
  {
   "cell_type": "code",
   "execution_count": 62,
   "id": "a32f9f09",
   "metadata": {},
   "outputs": [],
   "source": [
    "import pandas as pd\n",
    "import numpy as np\n",
    "import matplotlib.pyplot as plt\n",
    "from sklearn.model_selection import train_test_split\n"
   ]
  },
  {
   "cell_type": "code",
   "execution_count": 63,
   "id": "214213b4",
   "metadata": {},
   "outputs": [],
   "source": [
    "# load the data \n",
    "df = pd.read_csv('Data/engines2_data_cleaned_no_outliers.csv')"
   ]
  },
  {
   "cell_type": "code",
   "execution_count": 64,
   "id": "cb79ca67",
   "metadata": {},
   "outputs": [],
   "source": [
    "# Ensure df is a DataFrame\n",
    "if isinstance(df, pd.DataFrame):\n",
    "\t# select the relevant columns\n",
    "\tX = df[['flight_cycle', 'flight_phase', 'egt_probe_average', 'fuel_flw', 'core_spd', 'zpn12p', 'vib_n1_#1_bearing', 'vib_n2_#1_bearing', 'vib_n2_turbine_frame']].copy()\n",
    "else:\n",
    "\traise TypeError(\"The variable 'df' is not a DataFrame. Please ensure it is properly defined.\")\n",
    "Y= df['RUL'].copy()"
   ]
  },
  {
   "cell_type": "code",
   "execution_count": 65,
   "id": "3a89a2e9",
   "metadata": {},
   "outputs": [],
   "source": [
    "# getdummy for eng_number\n",
    "X = pd.get_dummies(X, columns=['flight_phase'], drop_first=False)"
   ]
  },
  {
   "cell_type": "code",
   "execution_count": 88,
   "id": "09df931a",
   "metadata": {},
   "outputs": [
    {
     "data": {
      "text/plain": [
       "Index(['flight_cycle', 'egt_probe_average', 'fuel_flw', 'core_spd', 'zpn12p',\n",
       "       'vib_n1_#1_bearing', 'vib_n2_#1_bearing', 'vib_n2_turbine_frame',\n",
       "       'flight_phase_CLIMB', 'flight_phase_CRUISE', 'flight_phase_TAKEOFF'],\n",
       "      dtype='object')"
      ]
     },
     "execution_count": 88,
     "metadata": {},
     "output_type": "execute_result"
    }
   ],
   "source": [
    "X.columns"
   ]
  },
  {
   "cell_type": "code",
   "execution_count": 66,
   "id": "858dcdd5",
   "metadata": {},
   "outputs": [
    {
     "name": "stdout",
     "output_type": "stream",
     "text": [
      "Minimum values:\n",
      " flight_cycle                   0\n",
      "egt_probe_average       610.3875\n",
      "fuel_flw                  1118.0\n",
      "core_spd                   92.12\n",
      "zpn12p                     56.54\n",
      "vib_n1_#1_bearing            0.0\n",
      "vib_n2_#1_bearing            0.0\n",
      "vib_n2_turbine_frame         0.0\n",
      "flight_phase_CLIMB         False\n",
      "flight_phase_CRUISE        False\n",
      "flight_phase_TAKEOFF       False\n",
      "dtype: object\n",
      "\n",
      "Maximum values:\n",
      " flight_cycle              4690\n",
      "egt_probe_average        951.7\n",
      "fuel_flw                5687.0\n",
      "core_spd                108.68\n",
      "zpn12p                   91.08\n",
      "vib_n1_#1_bearing       0.3533\n",
      "vib_n2_#1_bearing        1.075\n",
      "vib_n2_turbine_frame     1.625\n",
      "flight_phase_CLIMB        True\n",
      "flight_phase_CRUISE       True\n",
      "flight_phase_TAKEOFF      True\n",
      "dtype: object\n"
     ]
    }
   ],
   "source": [
    "# find min and max values for each column\n",
    "min_values = X.min()\n",
    "max_values = X.max()\n",
    "# print min and max values\n",
    "print(\"Minimum values:\\n\", min_values)\n",
    "print(\"\\nMaximum values:\\n\", max_values)\n"
   ]
  },
  {
   "cell_type": "code",
   "execution_count": 67,
   "id": "a7ed4874",
   "metadata": {},
   "outputs": [
    {
     "data": {
      "text/html": [
       "<style type=\"text/css\">\n",
       "#T_b656f_row8_col1 {\n",
       "  background-color: lightgreen;\n",
       "}\n",
       "</style>\n",
       "<table id=\"T_b656f\">\n",
       "  <thead>\n",
       "    <tr>\n",
       "      <th class=\"blank level0\" >&nbsp;</th>\n",
       "      <th id=\"T_b656f_level0_col0\" class=\"col_heading level0 col0\" >Description</th>\n",
       "      <th id=\"T_b656f_level0_col1\" class=\"col_heading level0 col1\" >Value</th>\n",
       "    </tr>\n",
       "  </thead>\n",
       "  <tbody>\n",
       "    <tr>\n",
       "      <th id=\"T_b656f_level0_row0\" class=\"row_heading level0 row0\" >0</th>\n",
       "      <td id=\"T_b656f_row0_col0\" class=\"data row0 col0\" >Session id</td>\n",
       "      <td id=\"T_b656f_row0_col1\" class=\"data row0 col1\" >42</td>\n",
       "    </tr>\n",
       "    <tr>\n",
       "      <th id=\"T_b656f_level0_row1\" class=\"row_heading level0 row1\" >1</th>\n",
       "      <td id=\"T_b656f_row1_col0\" class=\"data row1 col0\" >Target</td>\n",
       "      <td id=\"T_b656f_row1_col1\" class=\"data row1 col1\" >RUL</td>\n",
       "    </tr>\n",
       "    <tr>\n",
       "      <th id=\"T_b656f_level0_row2\" class=\"row_heading level0 row2\" >2</th>\n",
       "      <td id=\"T_b656f_row2_col0\" class=\"data row2 col0\" >Target type</td>\n",
       "      <td id=\"T_b656f_row2_col1\" class=\"data row2 col1\" >Regression</td>\n",
       "    </tr>\n",
       "    <tr>\n",
       "      <th id=\"T_b656f_level0_row3\" class=\"row_heading level0 row3\" >3</th>\n",
       "      <td id=\"T_b656f_row3_col0\" class=\"data row3 col0\" >Original data shape</td>\n",
       "      <td id=\"T_b656f_row3_col1\" class=\"data row3 col1\" >(84169, 12)</td>\n",
       "    </tr>\n",
       "    <tr>\n",
       "      <th id=\"T_b656f_level0_row4\" class=\"row_heading level0 row4\" >4</th>\n",
       "      <td id=\"T_b656f_row4_col0\" class=\"data row4 col0\" >Transformed data shape</td>\n",
       "      <td id=\"T_b656f_row4_col1\" class=\"data row4 col1\" >(84169, 12)</td>\n",
       "    </tr>\n",
       "    <tr>\n",
       "      <th id=\"T_b656f_level0_row5\" class=\"row_heading level0 row5\" >5</th>\n",
       "      <td id=\"T_b656f_row5_col0\" class=\"data row5 col0\" >Transformed train set shape</td>\n",
       "      <td id=\"T_b656f_row5_col1\" class=\"data row5 col1\" >(58918, 12)</td>\n",
       "    </tr>\n",
       "    <tr>\n",
       "      <th id=\"T_b656f_level0_row6\" class=\"row_heading level0 row6\" >6</th>\n",
       "      <td id=\"T_b656f_row6_col0\" class=\"data row6 col0\" >Transformed test set shape</td>\n",
       "      <td id=\"T_b656f_row6_col1\" class=\"data row6 col1\" >(25251, 12)</td>\n",
       "    </tr>\n",
       "    <tr>\n",
       "      <th id=\"T_b656f_level0_row7\" class=\"row_heading level0 row7\" >7</th>\n",
       "      <td id=\"T_b656f_row7_col0\" class=\"data row7 col0\" >Numeric features</td>\n",
       "      <td id=\"T_b656f_row7_col1\" class=\"data row7 col1\" >8</td>\n",
       "    </tr>\n",
       "    <tr>\n",
       "      <th id=\"T_b656f_level0_row8\" class=\"row_heading level0 row8\" >8</th>\n",
       "      <td id=\"T_b656f_row8_col0\" class=\"data row8 col0\" >Preprocess</td>\n",
       "      <td id=\"T_b656f_row8_col1\" class=\"data row8 col1\" >True</td>\n",
       "    </tr>\n",
       "    <tr>\n",
       "      <th id=\"T_b656f_level0_row9\" class=\"row_heading level0 row9\" >9</th>\n",
       "      <td id=\"T_b656f_row9_col0\" class=\"data row9 col0\" >Imputation type</td>\n",
       "      <td id=\"T_b656f_row9_col1\" class=\"data row9 col1\" >simple</td>\n",
       "    </tr>\n",
       "    <tr>\n",
       "      <th id=\"T_b656f_level0_row10\" class=\"row_heading level0 row10\" >10</th>\n",
       "      <td id=\"T_b656f_row10_col0\" class=\"data row10 col0\" >Numeric imputation</td>\n",
       "      <td id=\"T_b656f_row10_col1\" class=\"data row10 col1\" >mean</td>\n",
       "    </tr>\n",
       "    <tr>\n",
       "      <th id=\"T_b656f_level0_row11\" class=\"row_heading level0 row11\" >11</th>\n",
       "      <td id=\"T_b656f_row11_col0\" class=\"data row11 col0\" >Categorical imputation</td>\n",
       "      <td id=\"T_b656f_row11_col1\" class=\"data row11 col1\" >mode</td>\n",
       "    </tr>\n",
       "    <tr>\n",
       "      <th id=\"T_b656f_level0_row12\" class=\"row_heading level0 row12\" >12</th>\n",
       "      <td id=\"T_b656f_row12_col0\" class=\"data row12 col0\" >Fold Generator</td>\n",
       "      <td id=\"T_b656f_row12_col1\" class=\"data row12 col1\" >KFold</td>\n",
       "    </tr>\n",
       "    <tr>\n",
       "      <th id=\"T_b656f_level0_row13\" class=\"row_heading level0 row13\" >13</th>\n",
       "      <td id=\"T_b656f_row13_col0\" class=\"data row13 col0\" >Fold Number</td>\n",
       "      <td id=\"T_b656f_row13_col1\" class=\"data row13 col1\" >10</td>\n",
       "    </tr>\n",
       "    <tr>\n",
       "      <th id=\"T_b656f_level0_row14\" class=\"row_heading level0 row14\" >14</th>\n",
       "      <td id=\"T_b656f_row14_col0\" class=\"data row14 col0\" >CPU Jobs</td>\n",
       "      <td id=\"T_b656f_row14_col1\" class=\"data row14 col1\" >-1</td>\n",
       "    </tr>\n",
       "    <tr>\n",
       "      <th id=\"T_b656f_level0_row15\" class=\"row_heading level0 row15\" >15</th>\n",
       "      <td id=\"T_b656f_row15_col0\" class=\"data row15 col0\" >Use GPU</td>\n",
       "      <td id=\"T_b656f_row15_col1\" class=\"data row15 col1\" >False</td>\n",
       "    </tr>\n",
       "    <tr>\n",
       "      <th id=\"T_b656f_level0_row16\" class=\"row_heading level0 row16\" >16</th>\n",
       "      <td id=\"T_b656f_row16_col0\" class=\"data row16 col0\" >Log Experiment</td>\n",
       "      <td id=\"T_b656f_row16_col1\" class=\"data row16 col1\" >False</td>\n",
       "    </tr>\n",
       "    <tr>\n",
       "      <th id=\"T_b656f_level0_row17\" class=\"row_heading level0 row17\" >17</th>\n",
       "      <td id=\"T_b656f_row17_col0\" class=\"data row17 col0\" >Experiment Name</td>\n",
       "      <td id=\"T_b656f_row17_col1\" class=\"data row17 col1\" >reg-default-name</td>\n",
       "    </tr>\n",
       "    <tr>\n",
       "      <th id=\"T_b656f_level0_row18\" class=\"row_heading level0 row18\" >18</th>\n",
       "      <td id=\"T_b656f_row18_col0\" class=\"data row18 col0\" >USI</td>\n",
       "      <td id=\"T_b656f_row18_col1\" class=\"data row18 col1\" >8b46</td>\n",
       "    </tr>\n",
       "  </tbody>\n",
       "</table>\n"
      ],
      "text/plain": [
       "<pandas.io.formats.style.Styler at 0x1443a6ec5e0>"
      ]
     },
     "metadata": {},
     "output_type": "display_data"
    },
    {
     "data": {
      "text/html": [],
      "text/plain": [
       "<IPython.core.display.HTML object>"
      ]
     },
     "metadata": {},
     "output_type": "display_data"
    },
    {
     "data": {
      "text/html": [
       "<style type=\"text/css\">\n",
       "#T_499ea th {\n",
       "  text-align: left;\n",
       "}\n",
       "#T_499ea_row0_col0, #T_499ea_row1_col0, #T_499ea_row1_col1, #T_499ea_row1_col2, #T_499ea_row1_col3, #T_499ea_row1_col4, #T_499ea_row1_col5, #T_499ea_row1_col6, #T_499ea_row2_col0, #T_499ea_row2_col1, #T_499ea_row2_col2, #T_499ea_row2_col3, #T_499ea_row2_col4, #T_499ea_row2_col5, #T_499ea_row2_col6, #T_499ea_row3_col0, #T_499ea_row3_col1, #T_499ea_row3_col2, #T_499ea_row3_col3, #T_499ea_row3_col4, #T_499ea_row3_col5, #T_499ea_row3_col6, #T_499ea_row4_col0, #T_499ea_row4_col1, #T_499ea_row4_col2, #T_499ea_row4_col3, #T_499ea_row4_col4, #T_499ea_row4_col5, #T_499ea_row4_col6, #T_499ea_row5_col0, #T_499ea_row5_col1, #T_499ea_row5_col2, #T_499ea_row5_col3, #T_499ea_row5_col4, #T_499ea_row5_col5, #T_499ea_row5_col6, #T_499ea_row6_col0, #T_499ea_row6_col1, #T_499ea_row6_col2, #T_499ea_row6_col3, #T_499ea_row6_col4, #T_499ea_row6_col5, #T_499ea_row6_col6, #T_499ea_row7_col0, #T_499ea_row7_col1, #T_499ea_row7_col2, #T_499ea_row7_col3, #T_499ea_row7_col4, #T_499ea_row7_col5, #T_499ea_row7_col6, #T_499ea_row8_col0, #T_499ea_row8_col1, #T_499ea_row8_col2, #T_499ea_row8_col3, #T_499ea_row8_col4, #T_499ea_row8_col5, #T_499ea_row8_col6, #T_499ea_row9_col0, #T_499ea_row9_col1, #T_499ea_row9_col2, #T_499ea_row9_col3, #T_499ea_row9_col4, #T_499ea_row9_col5, #T_499ea_row9_col6, #T_499ea_row10_col0, #T_499ea_row10_col1, #T_499ea_row10_col2, #T_499ea_row10_col3, #T_499ea_row10_col4, #T_499ea_row10_col5, #T_499ea_row10_col6, #T_499ea_row11_col0, #T_499ea_row11_col1, #T_499ea_row11_col2, #T_499ea_row11_col3, #T_499ea_row11_col4, #T_499ea_row11_col5, #T_499ea_row11_col6, #T_499ea_row12_col0, #T_499ea_row12_col1, #T_499ea_row12_col2, #T_499ea_row12_col3, #T_499ea_row12_col4, #T_499ea_row12_col5, #T_499ea_row12_col6, #T_499ea_row13_col0, #T_499ea_row13_col1, #T_499ea_row13_col2, #T_499ea_row13_col3, #T_499ea_row13_col4, #T_499ea_row13_col5, #T_499ea_row13_col6, #T_499ea_row14_col0, #T_499ea_row14_col1, #T_499ea_row14_col2, #T_499ea_row14_col3, #T_499ea_row14_col4, #T_499ea_row14_col5, #T_499ea_row14_col6, #T_499ea_row15_col0, #T_499ea_row15_col1, #T_499ea_row15_col2, #T_499ea_row15_col3, #T_499ea_row15_col4, #T_499ea_row15_col5, #T_499ea_row15_col6, #T_499ea_row16_col0, #T_499ea_row16_col1, #T_499ea_row16_col2, #T_499ea_row16_col3, #T_499ea_row16_col4, #T_499ea_row16_col5, #T_499ea_row16_col6, #T_499ea_row17_col0, #T_499ea_row17_col1, #T_499ea_row17_col2, #T_499ea_row17_col3, #T_499ea_row17_col4, #T_499ea_row17_col5, #T_499ea_row17_col6, #T_499ea_row18_col0, #T_499ea_row18_col1, #T_499ea_row18_col2, #T_499ea_row18_col3, #T_499ea_row18_col4, #T_499ea_row18_col5, #T_499ea_row18_col6 {\n",
       "  text-align: left;\n",
       "}\n",
       "#T_499ea_row0_col1, #T_499ea_row0_col2, #T_499ea_row0_col3, #T_499ea_row0_col4, #T_499ea_row0_col5, #T_499ea_row0_col6 {\n",
       "  text-align: left;\n",
       "  background-color: yellow;\n",
       "}\n",
       "#T_499ea_row0_col7, #T_499ea_row1_col7, #T_499ea_row2_col7, #T_499ea_row3_col7, #T_499ea_row4_col7, #T_499ea_row5_col7, #T_499ea_row6_col7, #T_499ea_row7_col7, #T_499ea_row8_col7, #T_499ea_row9_col7, #T_499ea_row10_col7, #T_499ea_row11_col7, #T_499ea_row12_col7, #T_499ea_row13_col7, #T_499ea_row14_col7, #T_499ea_row15_col7, #T_499ea_row16_col7, #T_499ea_row17_col7 {\n",
       "  text-align: left;\n",
       "  background-color: lightgrey;\n",
       "}\n",
       "#T_499ea_row18_col7 {\n",
       "  text-align: left;\n",
       "  background-color: yellow;\n",
       "  background-color: lightgrey;\n",
       "}\n",
       "</style>\n",
       "<table id=\"T_499ea\">\n",
       "  <thead>\n",
       "    <tr>\n",
       "      <th class=\"blank level0\" >&nbsp;</th>\n",
       "      <th id=\"T_499ea_level0_col0\" class=\"col_heading level0 col0\" >Model</th>\n",
       "      <th id=\"T_499ea_level0_col1\" class=\"col_heading level0 col1\" >MAE</th>\n",
       "      <th id=\"T_499ea_level0_col2\" class=\"col_heading level0 col2\" >MSE</th>\n",
       "      <th id=\"T_499ea_level0_col3\" class=\"col_heading level0 col3\" >RMSE</th>\n",
       "      <th id=\"T_499ea_level0_col4\" class=\"col_heading level0 col4\" >R2</th>\n",
       "      <th id=\"T_499ea_level0_col5\" class=\"col_heading level0 col5\" >RMSLE</th>\n",
       "      <th id=\"T_499ea_level0_col6\" class=\"col_heading level0 col6\" >MAPE</th>\n",
       "      <th id=\"T_499ea_level0_col7\" class=\"col_heading level0 col7\" >TT (Sec)</th>\n",
       "    </tr>\n",
       "  </thead>\n",
       "  <tbody>\n",
       "    <tr>\n",
       "      <th id=\"T_499ea_level0_row0\" class=\"row_heading level0 row0\" >et</th>\n",
       "      <td id=\"T_499ea_row0_col0\" class=\"data row0 col0\" >Extra Trees Regressor</td>\n",
       "      <td id=\"T_499ea_row0_col1\" class=\"data row0 col1\" >109.5706</td>\n",
       "      <td id=\"T_499ea_row0_col2\" class=\"data row0 col2\" >24373.0202</td>\n",
       "      <td id=\"T_499ea_row0_col3\" class=\"data row0 col3\" >156.1109</td>\n",
       "      <td id=\"T_499ea_row0_col4\" class=\"data row0 col4\" >0.9840</td>\n",
       "      <td id=\"T_499ea_row0_col5\" class=\"data row0 col5\" >0.2134</td>\n",
       "      <td id=\"T_499ea_row0_col6\" class=\"data row0 col6\" >0.1506</td>\n",
       "      <td id=\"T_499ea_row0_col7\" class=\"data row0 col7\" >2.4820</td>\n",
       "    </tr>\n",
       "    <tr>\n",
       "      <th id=\"T_499ea_level0_row1\" class=\"row_heading level0 row1\" >rf</th>\n",
       "      <td id=\"T_499ea_row1_col0\" class=\"data row1 col0\" >Random Forest Regressor</td>\n",
       "      <td id=\"T_499ea_row1_col1\" class=\"data row1 col1\" >111.8856</td>\n",
       "      <td id=\"T_499ea_row1_col2\" class=\"data row1 col2\" >25675.7373</td>\n",
       "      <td id=\"T_499ea_row1_col3\" class=\"data row1 col3\" >160.2254</td>\n",
       "      <td id=\"T_499ea_row1_col4\" class=\"data row1 col4\" >0.9831</td>\n",
       "      <td id=\"T_499ea_row1_col5\" class=\"data row1 col5\" >0.2193</td>\n",
       "      <td id=\"T_499ea_row1_col6\" class=\"data row1 col6\" >0.1539</td>\n",
       "      <td id=\"T_499ea_row1_col7\" class=\"data row1 col7\" >4.3240</td>\n",
       "    </tr>\n",
       "    <tr>\n",
       "      <th id=\"T_499ea_level0_row2\" class=\"row_heading level0 row2\" >xgboost</th>\n",
       "      <td id=\"T_499ea_row2_col0\" class=\"data row2 col0\" >Extreme Gradient Boosting</td>\n",
       "      <td id=\"T_499ea_row2_col1\" class=\"data row2 col1\" >126.4928</td>\n",
       "      <td id=\"T_499ea_row2_col2\" class=\"data row2 col2\" >27878.2033</td>\n",
       "      <td id=\"T_499ea_row2_col3\" class=\"data row2 col3\" >166.9620</td>\n",
       "      <td id=\"T_499ea_row2_col4\" class=\"data row2 col4\" >0.9817</td>\n",
       "      <td id=\"T_499ea_row2_col5\" class=\"data row2 col5\" >0.2615</td>\n",
       "      <td id=\"T_499ea_row2_col6\" class=\"data row2 col6\" >0.1897</td>\n",
       "      <td id=\"T_499ea_row2_col7\" class=\"data row2 col7\" >0.2360</td>\n",
       "    </tr>\n",
       "    <tr>\n",
       "      <th id=\"T_499ea_level0_row3\" class=\"row_heading level0 row3\" >lightgbm</th>\n",
       "      <td id=\"T_499ea_row3_col0\" class=\"data row3 col0\" >Light Gradient Boosting Machine</td>\n",
       "      <td id=\"T_499ea_row3_col1\" class=\"data row3 col1\" >139.9071</td>\n",
       "      <td id=\"T_499ea_row3_col2\" class=\"data row3 col2\" >31411.8878</td>\n",
       "      <td id=\"T_499ea_row3_col3\" class=\"data row3 col3\" >177.2276</td>\n",
       "      <td id=\"T_499ea_row3_col4\" class=\"data row3 col4\" >0.9793</td>\n",
       "      <td id=\"T_499ea_row3_col5\" class=\"data row3 col5\" >0.2777</td>\n",
       "      <td id=\"T_499ea_row3_col6\" class=\"data row3 col6\" >0.2347</td>\n",
       "      <td id=\"T_499ea_row3_col7\" class=\"data row3 col7\" >0.1770</td>\n",
       "    </tr>\n",
       "    <tr>\n",
       "      <th id=\"T_499ea_level0_row4\" class=\"row_heading level0 row4\" >gbr</th>\n",
       "      <td id=\"T_499ea_row4_col0\" class=\"data row4 col0\" >Gradient Boosting Regressor</td>\n",
       "      <td id=\"T_499ea_row4_col1\" class=\"data row4 col1\" >175.4139</td>\n",
       "      <td id=\"T_499ea_row4_col2\" class=\"data row4 col2\" >43118.2009</td>\n",
       "      <td id=\"T_499ea_row4_col3\" class=\"data row4 col3\" >207.6424</td>\n",
       "      <td id=\"T_499ea_row4_col4\" class=\"data row4 col4\" >0.9716</td>\n",
       "      <td id=\"T_499ea_row4_col5\" class=\"data row4 col5\" >0.3207</td>\n",
       "      <td id=\"T_499ea_row4_col6\" class=\"data row4 col6\" >0.2949</td>\n",
       "      <td id=\"T_499ea_row4_col7\" class=\"data row4 col7\" >1.1440</td>\n",
       "    </tr>\n",
       "    <tr>\n",
       "      <th id=\"T_499ea_level0_row5\" class=\"row_heading level0 row5\" >dt</th>\n",
       "      <td id=\"T_499ea_row5_col0\" class=\"data row5 col0\" >Decision Tree Regressor</td>\n",
       "      <td id=\"T_499ea_row5_col1\" class=\"data row5 col1\" >123.0458</td>\n",
       "      <td id=\"T_499ea_row5_col2\" class=\"data row5 col2\" >53821.7618</td>\n",
       "      <td id=\"T_499ea_row5_col3\" class=\"data row5 col3\" >231.9792</td>\n",
       "      <td id=\"T_499ea_row5_col4\" class=\"data row5 col4\" >0.9646</td>\n",
       "      <td id=\"T_499ea_row5_col5\" class=\"data row5 col5\" >0.2918</td>\n",
       "      <td id=\"T_499ea_row5_col6\" class=\"data row5 col6\" >0.1630</td>\n",
       "      <td id=\"T_499ea_row5_col7\" class=\"data row5 col7\" >0.1020</td>\n",
       "    </tr>\n",
       "    <tr>\n",
       "      <th id=\"T_499ea_level0_row6\" class=\"row_heading level0 row6\" >lar</th>\n",
       "      <td id=\"T_499ea_row6_col0\" class=\"data row6 col0\" >Least Angle Regression</td>\n",
       "      <td id=\"T_499ea_row6_col1\" class=\"data row6 col1\" >228.5600</td>\n",
       "      <td id=\"T_499ea_row6_col2\" class=\"data row6 col2\" >63452.9565</td>\n",
       "      <td id=\"T_499ea_row6_col3\" class=\"data row6 col3\" >251.8964</td>\n",
       "      <td id=\"T_499ea_row6_col4\" class=\"data row6 col4\" >0.9583</td>\n",
       "      <td id=\"T_499ea_row6_col5\" class=\"data row6 col5\" >0.4414</td>\n",
       "      <td id=\"T_499ea_row6_col6\" class=\"data row6 col6\" >0.3967</td>\n",
       "      <td id=\"T_499ea_row6_col7\" class=\"data row6 col7\" >0.0320</td>\n",
       "    </tr>\n",
       "    <tr>\n",
       "      <th id=\"T_499ea_level0_row7\" class=\"row_heading level0 row7\" >br</th>\n",
       "      <td id=\"T_499ea_row7_col0\" class=\"data row7 col0\" >Bayesian Ridge</td>\n",
       "      <td id=\"T_499ea_row7_col1\" class=\"data row7 col1\" >228.6003</td>\n",
       "      <td id=\"T_499ea_row7_col2\" class=\"data row7 col2\" >63453.0731</td>\n",
       "      <td id=\"T_499ea_row7_col3\" class=\"data row7 col3\" >251.8967</td>\n",
       "      <td id=\"T_499ea_row7_col4\" class=\"data row7 col4\" >0.9583</td>\n",
       "      <td id=\"T_499ea_row7_col5\" class=\"data row7 col5\" >0.4413</td>\n",
       "      <td id=\"T_499ea_row7_col6\" class=\"data row7 col6\" >0.3967</td>\n",
       "      <td id=\"T_499ea_row7_col7\" class=\"data row7 col7\" >0.0370</td>\n",
       "    </tr>\n",
       "    <tr>\n",
       "      <th id=\"T_499ea_level0_row8\" class=\"row_heading level0 row8\" >ridge</th>\n",
       "      <td id=\"T_499ea_row8_col0\" class=\"data row8 col0\" >Ridge Regression</td>\n",
       "      <td id=\"T_499ea_row8_col1\" class=\"data row8 col1\" >228.5708</td>\n",
       "      <td id=\"T_499ea_row8_col2\" class=\"data row8 col2\" >63452.9546</td>\n",
       "      <td id=\"T_499ea_row8_col3\" class=\"data row8 col3\" >251.8964</td>\n",
       "      <td id=\"T_499ea_row8_col4\" class=\"data row8 col4\" >0.9583</td>\n",
       "      <td id=\"T_499ea_row8_col5\" class=\"data row8 col5\" >0.4414</td>\n",
       "      <td id=\"T_499ea_row8_col6\" class=\"data row8 col6\" >0.3967</td>\n",
       "      <td id=\"T_499ea_row8_col7\" class=\"data row8 col7\" >0.0370</td>\n",
       "    </tr>\n",
       "    <tr>\n",
       "      <th id=\"T_499ea_level0_row9\" class=\"row_heading level0 row9\" >lr</th>\n",
       "      <td id=\"T_499ea_row9_col0\" class=\"data row9 col0\" >Linear Regression</td>\n",
       "      <td id=\"T_499ea_row9_col1\" class=\"data row9 col1\" >228.5600</td>\n",
       "      <td id=\"T_499ea_row9_col2\" class=\"data row9 col2\" >63452.9565</td>\n",
       "      <td id=\"T_499ea_row9_col3\" class=\"data row9 col3\" >251.8964</td>\n",
       "      <td id=\"T_499ea_row9_col4\" class=\"data row9 col4\" >0.9583</td>\n",
       "      <td id=\"T_499ea_row9_col5\" class=\"data row9 col5\" >0.4414</td>\n",
       "      <td id=\"T_499ea_row9_col6\" class=\"data row9 col6\" >0.3967</td>\n",
       "      <td id=\"T_499ea_row9_col7\" class=\"data row9 col7\" >1.1810</td>\n",
       "    </tr>\n",
       "    <tr>\n",
       "      <th id=\"T_499ea_level0_row10\" class=\"row_heading level0 row10\" >lasso</th>\n",
       "      <td id=\"T_499ea_row10_col0\" class=\"data row10 col0\" >Lasso Regression</td>\n",
       "      <td id=\"T_499ea_row10_col1\" class=\"data row10 col1\" >231.2221</td>\n",
       "      <td id=\"T_499ea_row10_col2\" class=\"data row10 col2\" >63870.0176</td>\n",
       "      <td id=\"T_499ea_row10_col3\" class=\"data row10 col3\" >252.7227</td>\n",
       "      <td id=\"T_499ea_row10_col4\" class=\"data row10 col4\" >0.9580</td>\n",
       "      <td id=\"T_499ea_row10_col5\" class=\"data row10 col5\" >0.4361</td>\n",
       "      <td id=\"T_499ea_row10_col6\" class=\"data row10 col6\" >0.3934</td>\n",
       "      <td id=\"T_499ea_row10_col7\" class=\"data row10 col7\" >0.4320</td>\n",
       "    </tr>\n",
       "    <tr>\n",
       "      <th id=\"T_499ea_level0_row11\" class=\"row_heading level0 row11\" >llar</th>\n",
       "      <td id=\"T_499ea_row11_col0\" class=\"data row11 col0\" >Lasso Least Angle Regression</td>\n",
       "      <td id=\"T_499ea_row11_col1\" class=\"data row11 col1\" >231.2220</td>\n",
       "      <td id=\"T_499ea_row11_col2\" class=\"data row11 col2\" >63870.0087</td>\n",
       "      <td id=\"T_499ea_row11_col3\" class=\"data row11 col3\" >252.7227</td>\n",
       "      <td id=\"T_499ea_row11_col4\" class=\"data row11 col4\" >0.9580</td>\n",
       "      <td id=\"T_499ea_row11_col5\" class=\"data row11 col5\" >0.4361</td>\n",
       "      <td id=\"T_499ea_row11_col6\" class=\"data row11 col6\" >0.3934</td>\n",
       "      <td id=\"T_499ea_row11_col7\" class=\"data row11 col7\" >0.0300</td>\n",
       "    </tr>\n",
       "    <tr>\n",
       "      <th id=\"T_499ea_level0_row12\" class=\"row_heading level0 row12\" >ada</th>\n",
       "      <td id=\"T_499ea_row12_col0\" class=\"data row12 col0\" >AdaBoost Regressor</td>\n",
       "      <td id=\"T_499ea_row12_col1\" class=\"data row12 col1\" >231.1716</td>\n",
       "      <td id=\"T_499ea_row12_col2\" class=\"data row12 col2\" >64141.6992</td>\n",
       "      <td id=\"T_499ea_row12_col3\" class=\"data row12 col3\" >253.2604</td>\n",
       "      <td id=\"T_499ea_row12_col4\" class=\"data row12 col4\" >0.9578</td>\n",
       "      <td id=\"T_499ea_row12_col5\" class=\"data row12 col5\" >0.4038</td>\n",
       "      <td id=\"T_499ea_row12_col6\" class=\"data row12 col6\" >0.4925</td>\n",
       "      <td id=\"T_499ea_row12_col7\" class=\"data row12 col7\" >0.8690</td>\n",
       "    </tr>\n",
       "    <tr>\n",
       "      <th id=\"T_499ea_level0_row13\" class=\"row_heading level0 row13\" >knn</th>\n",
       "      <td id=\"T_499ea_row13_col0\" class=\"data row13 col0\" >K Neighbors Regressor</td>\n",
       "      <td id=\"T_499ea_row13_col1\" class=\"data row13 col1\" >209.2815</td>\n",
       "      <td id=\"T_499ea_row13_col2\" class=\"data row13 col2\" >64240.5647</td>\n",
       "      <td id=\"T_499ea_row13_col3\" class=\"data row13 col3\" >253.4495</td>\n",
       "      <td id=\"T_499ea_row13_col4\" class=\"data row13 col4\" >0.9577</td>\n",
       "      <td id=\"T_499ea_row13_col5\" class=\"data row13 col5\" >0.3173</td>\n",
       "      <td id=\"T_499ea_row13_col6\" class=\"data row13 col6\" >0.2837</td>\n",
       "      <td id=\"T_499ea_row13_col7\" class=\"data row13 col7\" >0.0590</td>\n",
       "    </tr>\n",
       "    <tr>\n",
       "      <th id=\"T_499ea_level0_row14\" class=\"row_heading level0 row14\" >en</th>\n",
       "      <td id=\"T_499ea_row14_col0\" class=\"data row14 col0\" >Elastic Net</td>\n",
       "      <td id=\"T_499ea_row14_col1\" class=\"data row14 col1\" >234.1019</td>\n",
       "      <td id=\"T_499ea_row14_col2\" class=\"data row14 col2\" >64818.6680</td>\n",
       "      <td id=\"T_499ea_row14_col3\" class=\"data row14 col3\" >254.5928</td>\n",
       "      <td id=\"T_499ea_row14_col4\" class=\"data row14 col4\" >0.9574</td>\n",
       "      <td id=\"T_499ea_row14_col5\" class=\"data row14 col5\" >0.4375</td>\n",
       "      <td id=\"T_499ea_row14_col6\" class=\"data row14 col6\" >0.3919</td>\n",
       "      <td id=\"T_499ea_row14_col7\" class=\"data row14 col7\" >0.0490</td>\n",
       "    </tr>\n",
       "    <tr>\n",
       "      <th id=\"T_499ea_level0_row15\" class=\"row_heading level0 row15\" >omp</th>\n",
       "      <td id=\"T_499ea_row15_col0\" class=\"data row15 col0\" >Orthogonal Matching Pursuit</td>\n",
       "      <td id=\"T_499ea_row15_col1\" class=\"data row15 col1\" >234.8014</td>\n",
       "      <td id=\"T_499ea_row15_col2\" class=\"data row15 col2\" >65015.4817</td>\n",
       "      <td id=\"T_499ea_row15_col3\" class=\"data row15 col3\" >254.9790</td>\n",
       "      <td id=\"T_499ea_row15_col4\" class=\"data row15 col4\" >0.9572</td>\n",
       "      <td id=\"T_499ea_row15_col5\" class=\"data row15 col5\" >0.4349</td>\n",
       "      <td id=\"T_499ea_row15_col6\" class=\"data row15 col6\" >0.3916</td>\n",
       "      <td id=\"T_499ea_row15_col7\" class=\"data row15 col7\" >0.0330</td>\n",
       "    </tr>\n",
       "    <tr>\n",
       "      <th id=\"T_499ea_level0_row16\" class=\"row_heading level0 row16\" >huber</th>\n",
       "      <td id=\"T_499ea_row16_col0\" class=\"data row16 col0\" >Huber Regressor</td>\n",
       "      <td id=\"T_499ea_row16_col1\" class=\"data row16 col1\" >232.0803</td>\n",
       "      <td id=\"T_499ea_row16_col2\" class=\"data row16 col2\" >65953.5385</td>\n",
       "      <td id=\"T_499ea_row16_col3\" class=\"data row16 col3\" >256.8103</td>\n",
       "      <td id=\"T_499ea_row16_col4\" class=\"data row16 col4\" >0.9566</td>\n",
       "      <td id=\"T_499ea_row16_col5\" class=\"data row16 col5\" >0.4403</td>\n",
       "      <td id=\"T_499ea_row16_col6\" class=\"data row16 col6\" >0.3818</td>\n",
       "      <td id=\"T_499ea_row16_col7\" class=\"data row16 col7\" >0.3150</td>\n",
       "    </tr>\n",
       "    <tr>\n",
       "      <th id=\"T_499ea_level0_row17\" class=\"row_heading level0 row17\" >par</th>\n",
       "      <td id=\"T_499ea_row17_col0\" class=\"data row17 col0\" >Passive Aggressive Regressor</td>\n",
       "      <td id=\"T_499ea_row17_col1\" class=\"data row17 col1\" >369.7314</td>\n",
       "      <td id=\"T_499ea_row17_col2\" class=\"data row17 col2\" >212057.0836</td>\n",
       "      <td id=\"T_499ea_row17_col3\" class=\"data row17 col3\" >437.0023</td>\n",
       "      <td id=\"T_499ea_row17_col4\" class=\"data row17 col4\" >0.8608</td>\n",
       "      <td id=\"T_499ea_row17_col5\" class=\"data row17 col5\" >0.5520</td>\n",
       "      <td id=\"T_499ea_row17_col6\" class=\"data row17 col6\" >0.7743</td>\n",
       "      <td id=\"T_499ea_row17_col7\" class=\"data row17 col7\" >0.0640</td>\n",
       "    </tr>\n",
       "    <tr>\n",
       "      <th id=\"T_499ea_level0_row18\" class=\"row_heading level0 row18\" >dummy</th>\n",
       "      <td id=\"T_499ea_row18_col0\" class=\"data row18 col0\" >Dummy Regressor</td>\n",
       "      <td id=\"T_499ea_row18_col1\" class=\"data row18 col1\" >1064.2640</td>\n",
       "      <td id=\"T_499ea_row18_col2\" class=\"data row18 col2\" >1520555.4840</td>\n",
       "      <td id=\"T_499ea_row18_col3\" class=\"data row18 col3\" >1233.0902</td>\n",
       "      <td id=\"T_499ea_row18_col4\" class=\"data row18 col4\" >-0.0002</td>\n",
       "      <td id=\"T_499ea_row18_col5\" class=\"data row18 col5\" >0.9628</td>\n",
       "      <td id=\"T_499ea_row18_col6\" class=\"data row18 col6\" >2.9443</td>\n",
       "      <td id=\"T_499ea_row18_col7\" class=\"data row18 col7\" >0.0280</td>\n",
       "    </tr>\n",
       "  </tbody>\n",
       "</table>\n"
      ],
      "text/plain": [
       "<pandas.io.formats.style.Styler at 0x1443a77b2b0>"
      ]
     },
     "metadata": {},
     "output_type": "display_data"
    },
    {
     "data": {
      "text/html": [],
      "text/plain": [
       "<IPython.core.display.HTML object>"
      ]
     },
     "metadata": {},
     "output_type": "display_data"
    }
   ],
   "source": [
    "# use pycaret regression to compare models\n",
    "from pycaret.regression import *\n",
    "\n",
    "s = setup(data=pd.concat([X, Y], axis=1), target='RUL', session_id=42)\n",
    "\n",
    "# Compare models\n",
    "best = compare_models()\n"
   ]
  },
  {
   "cell_type": "code",
   "execution_count": 68,
   "id": "e7f4f56c",
   "metadata": {},
   "outputs": [],
   "source": [
    "# scale the data\n",
    "from sklearn.preprocessing import MinMaxScaler\n",
    "\n",
    "scaler = MinMaxScaler()\n",
    "X_scaled = scaler.fit_transform(X)\n",
    "X = pd.DataFrame(X_scaled, columns=X.columns)"
   ]
  },
  {
   "cell_type": "code",
   "execution_count": 69,
   "id": "305a0462",
   "metadata": {},
   "outputs": [
    {
     "name": "stdout",
     "output_type": "stream",
     "text": [
      "X_train shape: (67335, 11), y_train shape: (67335,)\n",
      "X_val shape: (8417, 11), y_val shape: (8417,)\n",
      "X_test shape: (8417, 11), y_test shape: (8417,)\n"
     ]
    }
   ],
   "source": [
    "# Initial 80/20 split\n",
    "X_train, X_temp, y_train, y_temp = train_test_split(X, Y, test_size=0.2, random_state=42)\n",
    "# Further split temp into validation and test sets\n",
    "X_val, X_test, y_val, y_test = train_test_split(X_temp, y_temp, test_size=0.5, random_state=42)\n",
    "# Check the shapes of the splits\n",
    "print(f\"X_train shape: {X_train.shape}, y_train shape: {y_train.shape}\")\n",
    "print(f\"X_val shape: {X_val.shape}, y_val shape: {y_val.shape}\")\n",
    "print(f\"X_test shape: {X_test.shape}, y_test shape: {y_test.shape}\")"
   ]
  },
  {
   "cell_type": "code",
   "execution_count": 70,
   "id": "83b5ab1f",
   "metadata": {},
   "outputs": [
    {
     "data": {
      "application/vnd.microsoft.datawrangler.viewer.v0+json": {
       "columns": [
        {
         "name": "index",
         "rawType": "int64",
         "type": "integer"
        },
        {
         "name": "flight_cycle",
         "rawType": "float64",
         "type": "float"
        },
        {
         "name": "egt_probe_average",
         "rawType": "float64",
         "type": "float"
        },
        {
         "name": "fuel_flw",
         "rawType": "float64",
         "type": "float"
        },
        {
         "name": "core_spd",
         "rawType": "float64",
         "type": "float"
        },
        {
         "name": "zpn12p",
         "rawType": "float64",
         "type": "float"
        },
        {
         "name": "vib_n1_#1_bearing",
         "rawType": "float64",
         "type": "float"
        },
        {
         "name": "vib_n2_#1_bearing",
         "rawType": "float64",
         "type": "float"
        },
        {
         "name": "vib_n2_turbine_frame",
         "rawType": "float64",
         "type": "float"
        },
        {
         "name": "flight_phase_CLIMB",
         "rawType": "float64",
         "type": "float"
        },
        {
         "name": "flight_phase_CRUISE",
         "rawType": "float64",
         "type": "float"
        },
        {
         "name": "flight_phase_TAKEOFF",
         "rawType": "float64",
         "type": "float"
        }
       ],
       "conversionMethod": "pd.DataFrame",
       "ref": "33f06b56-3685-4b6e-9f30-d0d0e2410eac",
       "rows": [
        [
         "40668",
         "0.15522388059701492",
         "0.4281999633766711",
         "0.2190851389800832",
         "0.5634057971014492",
         "0.7851766068326576",
         "0.20747240305689219",
         "0.20930232558139536",
         "0.1076923076923077",
         "0.0",
         "1.0",
         "0.0"
        ],
        [
         "76442",
         "0.3373134328358209",
         "0.7671854971616918",
         "0.8505143357408624",
         "0.8357487922705307",
         "0.9174869716270992",
         "0.660345315595811",
         "0.3953488372093023",
         "0.2923076923076923",
         "1.0",
         "0.0",
         "0.0"
        ],
        [
         "8489",
         "0.6157782515991471",
         "0.4054568760300308",
         "0.2624206609761436",
         "0.46799516908212535",
         "0.7735958309206719",
         "0.6037362015284461",
         "0.13953488372093023",
         "0.5692307692307693",
         "0.0",
         "1.0",
         "0.0"
        ],
        [
         "68074",
         "0.5575692963752665",
         "0.409412195568577",
         "0.24556795797767567",
         "0.49456521739130377",
         "0.7530399536768961",
         "0.16982734220209456",
         "0.3953488372093023",
         "0.6615384615384615",
         "0.0",
         "1.0",
         "0.0"
        ],
        [
         "52608",
         "0.23816631130063964",
         "0.6969785753524995",
         "0.45589844604946383",
         "0.7035024154589369",
         "0.7845975680370583",
         "0.20747240305689219",
         "0.1627906976744186",
         "0.6307692307692307",
         "0.0",
         "0.0",
         "1.0"
        ]
       ],
       "shape": {
        "columns": 11,
        "rows": 5
       }
      },
      "text/html": [
       "<div>\n",
       "<style scoped>\n",
       "    .dataframe tbody tr th:only-of-type {\n",
       "        vertical-align: middle;\n",
       "    }\n",
       "\n",
       "    .dataframe tbody tr th {\n",
       "        vertical-align: top;\n",
       "    }\n",
       "\n",
       "    .dataframe thead th {\n",
       "        text-align: right;\n",
       "    }\n",
       "</style>\n",
       "<table border=\"1\" class=\"dataframe\">\n",
       "  <thead>\n",
       "    <tr style=\"text-align: right;\">\n",
       "      <th></th>\n",
       "      <th>flight_cycle</th>\n",
       "      <th>egt_probe_average</th>\n",
       "      <th>fuel_flw</th>\n",
       "      <th>core_spd</th>\n",
       "      <th>zpn12p</th>\n",
       "      <th>vib_n1_#1_bearing</th>\n",
       "      <th>vib_n2_#1_bearing</th>\n",
       "      <th>vib_n2_turbine_frame</th>\n",
       "      <th>flight_phase_CLIMB</th>\n",
       "      <th>flight_phase_CRUISE</th>\n",
       "      <th>flight_phase_TAKEOFF</th>\n",
       "    </tr>\n",
       "  </thead>\n",
       "  <tbody>\n",
       "    <tr>\n",
       "      <th>40668</th>\n",
       "      <td>0.155224</td>\n",
       "      <td>0.428200</td>\n",
       "      <td>0.219085</td>\n",
       "      <td>0.563406</td>\n",
       "      <td>0.785177</td>\n",
       "      <td>0.207472</td>\n",
       "      <td>0.209302</td>\n",
       "      <td>0.107692</td>\n",
       "      <td>0.0</td>\n",
       "      <td>1.0</td>\n",
       "      <td>0.0</td>\n",
       "    </tr>\n",
       "    <tr>\n",
       "      <th>76442</th>\n",
       "      <td>0.337313</td>\n",
       "      <td>0.767185</td>\n",
       "      <td>0.850514</td>\n",
       "      <td>0.835749</td>\n",
       "      <td>0.917487</td>\n",
       "      <td>0.660345</td>\n",
       "      <td>0.395349</td>\n",
       "      <td>0.292308</td>\n",
       "      <td>1.0</td>\n",
       "      <td>0.0</td>\n",
       "      <td>0.0</td>\n",
       "    </tr>\n",
       "    <tr>\n",
       "      <th>8489</th>\n",
       "      <td>0.615778</td>\n",
       "      <td>0.405457</td>\n",
       "      <td>0.262421</td>\n",
       "      <td>0.467995</td>\n",
       "      <td>0.773596</td>\n",
       "      <td>0.603736</td>\n",
       "      <td>0.139535</td>\n",
       "      <td>0.569231</td>\n",
       "      <td>0.0</td>\n",
       "      <td>1.0</td>\n",
       "      <td>0.0</td>\n",
       "    </tr>\n",
       "    <tr>\n",
       "      <th>68074</th>\n",
       "      <td>0.557569</td>\n",
       "      <td>0.409412</td>\n",
       "      <td>0.245568</td>\n",
       "      <td>0.494565</td>\n",
       "      <td>0.753040</td>\n",
       "      <td>0.169827</td>\n",
       "      <td>0.395349</td>\n",
       "      <td>0.661538</td>\n",
       "      <td>0.0</td>\n",
       "      <td>1.0</td>\n",
       "      <td>0.0</td>\n",
       "    </tr>\n",
       "    <tr>\n",
       "      <th>52608</th>\n",
       "      <td>0.238166</td>\n",
       "      <td>0.696979</td>\n",
       "      <td>0.455898</td>\n",
       "      <td>0.703502</td>\n",
       "      <td>0.784598</td>\n",
       "      <td>0.207472</td>\n",
       "      <td>0.162791</td>\n",
       "      <td>0.630769</td>\n",
       "      <td>0.0</td>\n",
       "      <td>0.0</td>\n",
       "      <td>1.0</td>\n",
       "    </tr>\n",
       "  </tbody>\n",
       "</table>\n",
       "</div>"
      ],
      "text/plain": [
       "       flight_cycle  egt_probe_average  fuel_flw  core_spd    zpn12p  \\\n",
       "40668      0.155224           0.428200  0.219085  0.563406  0.785177   \n",
       "76442      0.337313           0.767185  0.850514  0.835749  0.917487   \n",
       "8489       0.615778           0.405457  0.262421  0.467995  0.773596   \n",
       "68074      0.557569           0.409412  0.245568  0.494565  0.753040   \n",
       "52608      0.238166           0.696979  0.455898  0.703502  0.784598   \n",
       "\n",
       "       vib_n1_#1_bearing  vib_n2_#1_bearing  vib_n2_turbine_frame  \\\n",
       "40668           0.207472           0.209302              0.107692   \n",
       "76442           0.660345           0.395349              0.292308   \n",
       "8489            0.603736           0.139535              0.569231   \n",
       "68074           0.169827           0.395349              0.661538   \n",
       "52608           0.207472           0.162791              0.630769   \n",
       "\n",
       "       flight_phase_CLIMB  flight_phase_CRUISE  flight_phase_TAKEOFF  \n",
       "40668                 0.0                  1.0                   0.0  \n",
       "76442                 1.0                  0.0                   0.0  \n",
       "8489                  0.0                  1.0                   0.0  \n",
       "68074                 0.0                  1.0                   0.0  \n",
       "52608                 0.0                  0.0                   1.0  "
      ]
     },
     "execution_count": 70,
     "metadata": {},
     "output_type": "execute_result"
    }
   ],
   "source": [
    "X_train.head()"
   ]
  },
  {
   "cell_type": "markdown",
   "id": "fb720442",
   "metadata": {},
   "source": [
    "🧠 Multiple Models for Comparison   \n",
    "train top 3 models Extra Trees Regressor, Random Forest Regressor, and Gradient Boosting Regressor"
   ]
  },
  {
   "cell_type": "code",
   "execution_count": 71,
   "id": "c529deb5",
   "metadata": {},
   "outputs": [
    {
     "name": "stdout",
     "output_type": "stream",
     "text": [
      "Fitting 5 folds for each of 1 candidates, totalling 5 fits\n"
     ]
    },
    {
     "name": "stdout",
     "output_type": "stream",
     "text": [
      "Best Parameters: {'max_depth': None, 'min_samples_leaf': 20, 'min_samples_split': 2, 'n_estimators': 200}\n"
     ]
    }
   ],
   "source": [
    "# Random Forest regression\n",
    "from sklearn.ensemble import RandomForestRegressor\n",
    "from sklearn.model_selection import train_test_split, GridSearchCV\n",
    "from sklearn.metrics import mean_absolute_error, mean_squared_error\n",
    "\n",
    "# model training with Random Forest and cross-validation for hyperparameter tuning\n",
    "\n",
    "param_grid = {\n",
    "    'n_estimators': [200],\n",
    "    'max_depth': [None],\n",
    "    'min_samples_split': [2],\n",
    "    'min_samples_leaf': [20],\n",
    "}\n",
    "\n",
    "rf = RandomForestRegressor(random_state=42)\n",
    "\n",
    "grid_search = GridSearchCV(rf, param_grid, cv=5, scoring='neg_mean_absolute_error', n_jobs=-1, verbose=2)\n",
    "grid_search.fit(X_train, y_train)\n",
    "\n",
    "best_rf = grid_search.best_estimator_\n",
    "print(\"Best Parameters:\", grid_search.best_params_)"
   ]
  },
  {
   "cell_type": "code",
   "execution_count": 72,
   "id": "6b11f540",
   "metadata": {},
   "outputs": [
    {
     "name": "stdout",
     "output_type": "stream",
     "text": [
      "Validation MAE: 130.5421489399158, Validation RMSE: 173.48064302827837\n",
      "Validation R^2: 0.9802111363532775\n"
     ]
    }
   ],
   "source": [
    "# Evaluate the model on the validation set\n",
    "y_val_pred = best_rf.predict(X_val)\n",
    "mae_val = mean_absolute_error(y_val, y_val_pred)\n",
    "mse_val = mean_squared_error(y_val, y_val_pred)\n",
    "rmse_val = np.sqrt(mse_val)\n",
    "print(f\"Validation MAE: {mae_val}, Validation RMSE: {rmse_val}\")\n",
    "r2_val = best_rf.score(X_val, y_val)\n",
    "print(f\"Validation R^2: {r2_val}\")"
   ]
  },
  {
   "cell_type": "code",
   "execution_count": 73,
   "id": "c0e024a7",
   "metadata": {},
   "outputs": [
    {
     "name": "stdout",
     "output_type": "stream",
     "text": [
      "Test MAE: 131.67974846810344, Test RMSE: 174.00846869574167\n",
      "Test R^2: 0.9797750626370519\n"
     ]
    }
   ],
   "source": [
    "# Evaluate the model on the test set\n",
    "y_test_pred = best_rf.predict(X_test)\n",
    "mae_test = mean_absolute_error(y_test, y_test_pred)\n",
    "mse_test = mean_squared_error(y_test, y_test_pred)\n",
    "rmse_test = np.sqrt(mse_test)\n",
    "print(f\"Test MAE: {mae_test}, Test RMSE: {rmse_test}\")\n",
    "r2_test = best_rf.score(X_test, y_test)\n",
    "print(f\"Test R^2: {r2_test}\")\n"
   ]
  },
  {
   "cell_type": "code",
   "execution_count": 74,
   "id": "bf2f1202",
   "metadata": {},
   "outputs": [
    {
     "data": {
      "image/png": "[encoded data removed]",
      "text/plain": [
       "<Figure size 1200x600 with 1 Axes>"
      ]
     },
     "metadata": {},
     "output_type": "display_data"
    }
   ],
   "source": [
    "# Feature Importance\n",
    "importances = best_rf.feature_importances_\n",
    "feature_names = X.columns\n",
    "indices = np.argsort(importances)[::-1]\n",
    "plt.figure(figsize=(12, 6))\n",
    "plt.title(\"Feature Importances\")\n",
    "plt.bar(range(X.shape[1]), importances[indices], align=\"center\")\n",
    "plt.xticks(range(X.shape[1]), feature_names[indices], rotation=90)\n",
    "plt.xlim([-1, X.shape[1]])\n",
    "plt.tight_layout()\n",
    "plt.savefig('feature_importances.png')\n",
    "plt.show()\n"
   ]
  },
  {
   "cell_type": "code",
   "execution_count": 75,
   "id": "a3a6daac",
   "metadata": {},
   "outputs": [
    {
     "data": {
      "text/plain": [
       "['scaler_rf.pkl']"
      ]
     },
     "execution_count": 75,
     "metadata": {},
     "output_type": "execute_result"
    }
   ],
   "source": [
    "# save the model\n",
    "import joblib\n",
    "import pickle\n",
    "joblib.dump(best_rf, 'best_rf_model.pkl',protocol=pickle.HIGHEST_PROTOCOL, compress=4)\n",
    "# save the scaler\n",
    "joblib.dump(scaler, 'scaler_rf.pkl')"
   ]
  },
  {
   "cell_type": "code",
   "execution_count": 76,
   "id": "241b0a66",
   "metadata": {},
   "outputs": [
    {
     "name": "stdout",
     "output_type": "stream",
     "text": [
      "Fitting 5 folds for each of 1 candidates, totalling 5 fits\n"
     ]
    },
    {
     "name": "stdout",
     "output_type": "stream",
     "text": [
      "Best Parameters: {'n_estimators': 300, 'reg_alpha': 0, 'reg_lambda': 10}\n"
     ]
    }
   ],
   "source": [
    "# Try XGBoost\n",
    "import xgboost as xgb\n",
    "from xgboost import XGBRegressor\n",
    "from sklearn.model_selection import GridSearchCV\n",
    "from sklearn.metrics import mean_absolute_error, mean_squared_error\n",
    "from sklearn.model_selection import train_test_split\n",
    "from sklearn.metrics import r2_score\n",
    "from sklearn.preprocessing import StandardScaler\n",
    "\n",
    "# use the most influencing hyperparameters for XGBoost\n",
    "# n_estimators, learning_rate, max_depth, min_child_weight, gamma, subsample, colsample_bytree\n",
    "\n",
    "param_grid = {\n",
    "    'n_estimators': [300],\n",
    "    'reg_alpha': [0],  # L1 regularization\n",
    "    'reg_lambda': [10]      # L2 regularization\n",
    "}\n",
    "\n",
    "#make sure that the model generalize well\n",
    "# use cross-validation to find the best hyperparameters\n",
    "\n",
    "xgb_model = XGBRegressor(random_state=42)\n",
    "grid_search = GridSearchCV(xgb_model, param_grid, cv=5, scoring='neg_mean_absolute_error', n_jobs=-1, verbose=2)\n",
    "grid_search.fit(X_train, y_train)\n",
    "best_xgb = grid_search.best_estimator_\n",
    "print(\"Best Parameters:\", grid_search.best_params_)\n",
    "\n"
   ]
  },
  {
   "cell_type": "code",
   "execution_count": 77,
   "id": "08f6f9ba",
   "metadata": {},
   "outputs": [
    {
     "name": "stdout",
     "output_type": "stream",
     "text": [
      "Validation MAE: 115.33053552814062, Validation RMSE: 156.54498592572793\n",
      "Validation R^2: 0.9838862310056824\n"
     ]
    }
   ],
   "source": [
    "# Evaluate the model on the validation set\n",
    "y_val_pred = best_xgb.predict(X_val)\n",
    "mae_val = mean_absolute_error(y_val, y_val_pred)    \n",
    "mse_val = mean_squared_error(y_val, y_val_pred)\n",
    "rmse_val = np.sqrt(mse_val)\n",
    "print(f\"Validation MAE: {mae_val}, Validation RMSE: {rmse_val}\")\n",
    "r2_val = r2_score(y_val, y_val_pred)\n",
    "print(f\"Validation R^2: {r2_val}\")\n",
    "\n"
   ]
  },
  {
   "cell_type": "code",
   "execution_count": 78,
   "id": "c74079af",
   "metadata": {},
   "outputs": [
    {
     "name": "stdout",
     "output_type": "stream",
     "text": [
      "Test MAE: 118.0025428484692, Test RMSE: 158.24292961512694\n",
      "Test R^2: 0.9832738863217547\n"
     ]
    }
   ],
   "source": [
    "# Evaluate the model on the test set\n",
    "y_test_pred = best_xgb.predict(X_test)\n",
    "mae_test = mean_absolute_error(y_test, y_test_pred)\n",
    "mse_test = mean_squared_error(y_test, y_test_pred)\n",
    "rmse_test = np.sqrt(mse_test)\n",
    "print(f\"Test MAE: {mae_test}, Test RMSE: {rmse_test}\")\n",
    "r2_test = r2_score(y_test, y_test_pred)\n",
    "print(f\"Test R^2: {r2_test}\")\n"
   ]
  },
  {
   "cell_type": "code",
   "execution_count": 79,
   "id": "027b4b05",
   "metadata": {},
   "outputs": [
    {
     "data": {
      "image/png": "[encoded data removed]",
      "text/plain": [
       "<Figure size 1200x600 with 1 Axes>"
      ]
     },
     "metadata": {},
     "output_type": "display_data"
    }
   ],
   "source": [
    "# Feature Importance\n",
    "importances = best_xgb.feature_importances_\n",
    "feature_names = X_train.columns\n",
    "indices = np.argsort(importances)[::-1]\n",
    "plt.figure(figsize=(12, 6))\n",
    "plt.title(\"Feature Importances\")\n",
    "plt.bar(range(X_train.shape[1]), importances[indices], align=\"center\")\n",
    "plt.xticks(range(X_train.shape[1]), feature_names[indices], rotation=90)\n",
    "plt.xlim([-1, X_train.shape[1]])\n",
    "plt.tight_layout()\n",
    "plt.savefig('feature_importances_xgb.png')\n",
    "plt.show()"
   ]
  },
  {
   "cell_type": "code",
   "execution_count": 80,
   "id": "338df597",
   "metadata": {},
   "outputs": [
    {
     "data": {
      "text/plain": [
       "['scale_xgb.pkl']"
      ]
     },
     "execution_count": 80,
     "metadata": {},
     "output_type": "execute_result"
    }
   ],
   "source": [
    "# Save the model\n",
    "import joblib\n",
    "joblib.dump(best_xgb, 'best_xgb_model.pkl')\n",
    "# Save the scaler\n",
    "joblib.dump(scaler, 'scale_xgb.pkl')"
   ]
  },
  {
   "cell_type": "code",
   "execution_count": 81,
   "id": "6e8dccbf",
   "metadata": {},
   "outputs": [
    {
     "name": "stdout",
     "output_type": "stream",
     "text": [
      "Fitting 5 folds for each of 1 candidates, totalling 5 fits\n",
      "Best Parameters: {'max_depth': None, 'min_samples_leaf': 20, 'min_samples_split': 2, 'n_estimators': 200}\n"
     ]
    }
   ],
   "source": [
    "# Try Extra Trees Regressor\n",
    "from sklearn.ensemble import ExtraTreesRegressor\n",
    "\n",
    "# use the most influencing hyperparameters for extra trees\n",
    "# n_estimators, max_depth, min_samples_split, min_samples_leaf\n",
    "\n",
    "param_grid = {\n",
    "    'n_estimators': [200],\n",
    "    'max_depth': [None],\n",
    "    'min_samples_split': [2],\n",
    "    'min_samples_leaf': [20]}\n",
    "\n",
    "#make sure that the model generalize well\n",
    "# use cross-validation to find the best hyperparameters\n",
    "\n",
    "etr = ExtraTreesRegressor(random_state=42)\n",
    "grid_search = GridSearchCV(etr, param_grid, scoring='neg_mean_absolute_error', n_jobs=-1, verbose=2)\n",
    "grid_search.fit(X_train, y_train)\n",
    "best_etr = grid_search.best_estimator_\n",
    "print(\"Best Parameters:\", grid_search.best_params_)\n"
   ]
  },
  {
   "cell_type": "code",
   "execution_count": 82,
   "id": "ce423a94",
   "metadata": {},
   "outputs": [
    {
     "name": "stdout",
     "output_type": "stream",
     "text": [
      "Validation MAE: 145.32302458959325, Validation RMSE: 179.01739014735344\n",
      "Validation R^2: 0.9789278304382829\n"
     ]
    }
   ],
   "source": [
    "# Evaluate the model on the validation set\n",
    "y_val_pred = best_etr.predict(X_val)\n",
    "mae_val = mean_absolute_error(y_val, y_val_pred)\n",
    "mse_val = mean_squared_error(y_val, y_val_pred)\n",
    "rmse_val = np.sqrt(mse_val)\n",
    "print(f\"Validation MAE: {mae_val}, Validation RMSE: {rmse_val}\")\n",
    "r2_val = r2_score(y_val, y_val_pred)\n",
    "print(f\"Validation R^2: {r2_val}\")\n"
   ]
  },
  {
   "cell_type": "code",
   "execution_count": 83,
   "id": "d2fd435e",
   "metadata": {},
   "outputs": [
    {
     "name": "stdout",
     "output_type": "stream",
     "text": [
      "Test MAE: 146.44268825704987, Test RMSE: 180.06982328326484\n",
      "Test R^2: 0.9783415041790828\n"
     ]
    }
   ],
   "source": [
    "# Evaluate the model on the test set\n",
    "y_test_pred = best_etr.predict(X_test)\n",
    "mae_test = mean_absolute_error(y_test, y_test_pred)\n",
    "mse_test = mean_squared_error(y_test, y_test_pred)\n",
    "rmse_test = np.sqrt(mse_test)\n",
    "print(f\"Test MAE: {mae_test}, Test RMSE: {rmse_test}\")\n",
    "r2_test = r2_score(y_test, y_test_pred)\n",
    "print(f\"Test R^2: {r2_test}\")\n"
   ]
  },
  {
   "cell_type": "code",
   "execution_count": 84,
   "id": "5139956b",
   "metadata": {},
   "outputs": [
    {
     "data": {
      "image/png": "[encoded data removed]",
      "text/plain": [
       "<Figure size 1200x600 with 1 Axes>"
      ]
     },
     "metadata": {},
     "output_type": "display_data"
    }
   ],
   "source": [
    "#feaeture importance\n",
    "importances = best_etr.feature_importances_\n",
    "feature_names = X_train.columns\n",
    "indices = np.argsort(importances)[::-1]\n",
    "plt.figure(figsize=(12, 6))\n",
    "plt.title(\"Feature Importances\")\n",
    "plt.bar(range(X_train.shape[1]), importances[indices], align=\"center\")\n",
    "plt.xticks(range(X_train.shape[1]), feature_names[indices], rotation=90)\n",
    "plt.xlim([-1, X_train.shape[1]])\n",
    "plt.tight_layout()\n",
    "plt.savefig('feature_importances_etr.png')\n",
    "plt.show()"
   ]
  },
  {
   "cell_type": "code",
   "execution_count": 85,
   "id": "41af5476",
   "metadata": {},
   "outputs": [
    {
     "data": {
      "text/plain": [
       "['scale_etr.pkl']"
      ]
     },
     "execution_count": 85,
     "metadata": {},
     "output_type": "execute_result"
    }
   ],
   "source": [
    "# Save the model\n",
    "import joblib\n",
    "joblib.dump(best_etr, 'best_etr_model.pkl', protocol=pickle.HIGHEST_PROTOCOL,compress=4)\n",
    "# Save the scaler\n",
    "joblib.dump(scaler, 'scale_etr.pkl')\n"
   ]
  }
 ],
 "metadata": {
  "kernelspec": {
   "display_name": "Python 3",
   "language": "python",
   "name": "python3"
  },
  "language_info": {
   "codemirror_mode": {
    "name": "ipython",
    "version": 3
   },
   "file_extension": ".py",
   "mimetype": "text/x-python",
   "name": "python",
   "nbconvert_exporter": "python",
   "pygments_lexer": "ipython3",
   "version": "3.10.7"
  }
 },
 "nbformat": 4,
 "nbformat_minor": 5
}
