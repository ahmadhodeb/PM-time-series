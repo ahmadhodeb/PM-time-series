{
 "cells": [
  {
   "cell_type": "code",
   "execution_count": 16,
   "id": "a32f9f09",
   "metadata": {},
   "outputs": [],
   "source": [
    "import pandas as pd\n",
    "import numpy as np\n",
    "import matplotlib.pyplot as plt\n",
    "from sklearn.model_selection import train_test_split"
   ]
  },
  {
   "cell_type": "code",
   "execution_count": 17,
   "id": "214213b4",
   "metadata": {},
   "outputs": [],
   "source": [
    "# load the data \n",
    "df = pd.read_csv('Data/engines2_data_cleaned_no_outliers.csv')"
   ]
  },
  {
   "cell_type": "code",
   "execution_count": 23,
   "id": "cb79ca67",
   "metadata": {},
   "outputs": [],
   "source": [
    "# Ensure df is a DataFrame\n",
    "if isinstance(df, pd.DataFrame):\n",
    "\t# select the relevant columns\n",
    "\tX = df[['flight_cycle', 'flight_phase', 'egt_probe_average', 'fuel_flw', 'core_spd', 'zpn12p', 'vib_n1_#1_bearing', 'vib_n2_#1_bearing', 'vib_n2_turbine_frame']].copy()\n",
    "else:\n",
    "\traise TypeError(\"The variable 'df' is not a DataFrame. Please ensure it is properly defined.\")\n",
    "Y= df['RUL'].copy()"
   ]
  },
  {
   "cell_type": "code",
   "execution_count": 24,
   "id": "3a89a2e9",
   "metadata": {},
   "outputs": [],
   "source": [
    "# getdummy for eng_number\n",
    "X = pd.get_dummies(X, columns=['flight_phase'], drop_first=False)"
   ]
  },
  {
   "cell_type": "code",
   "execution_count": 25,
   "id": "858dcdd5",
   "metadata": {},
   "outputs": [
    {
     "name": "stdout",
     "output_type": "stream",
     "text": [
      "Minimum values:\n",
      " flight_cycle                 0\n",
      "egt_probe_average       584.55\n",
      "fuel_flw                1105.0\n",
      "core_spd                 90.53\n",
      "zpn12p                   51.74\n",
      "vib_n1_#1_bearing          0.0\n",
      "vib_n2_#1_bearing          0.0\n",
      "vib_n2_turbine_frame       0.0\n",
      "flight_phase_CLIMB       False\n",
      "flight_phase_CRUISE      False\n",
      "flight_phase_TAKEOFF     False\n",
      "dtype: object\n",
      "\n",
      "Maximum values:\n",
      " flight_cycle                4690\n",
      "egt_probe_average       969.6375\n",
      "fuel_flw                  5687.0\n",
      "core_spd                  109.46\n",
      "zpn12p                     91.08\n",
      "vib_n1_#1_bearing            0.4\n",
      "vib_n2_#1_bearing          1.225\n",
      "vib_n2_turbine_frame        1.85\n",
      "flight_phase_CLIMB          True\n",
      "flight_phase_CRUISE         True\n",
      "flight_phase_TAKEOFF        True\n",
      "dtype: object\n"
     ]
    }
   ],
   "source": [
    "# find min and max values for each column\n",
    "min_values = X.min()\n",
    "max_values = X.max()\n",
    "# print min and max values\n",
    "print(\"Minimum values:\\n\", min_values)\n",
    "print(\"\\nMaximum values:\\n\", max_values)\n"
   ]
  },
  {
   "cell_type": "code",
   "execution_count": 5,
   "id": "305a0462",
   "metadata": {},
   "outputs": [
    {
     "name": "stdout",
     "output_type": "stream",
     "text": [
      "X_train shape: (71035, 10), y_train shape: (71035,)\n",
      "X_val shape: (8879, 10), y_val shape: (8879,)\n",
      "X_test shape: (8880, 10), y_test shape: (8880,)\n"
     ]
    }
   ],
   "source": [
    "# Initial 80/20 split\n",
    "X_train, X_temp, y_train, y_temp = train_test_split(X, Y, test_size=0.2, random_state=42)\n",
    "# Further split temp into validation and test sets\n",
    "X_val, X_test, y_val, y_test = train_test_split(X_temp, y_temp, test_size=0.5, random_state=42)\n",
    "# Check the shapes of the splits\n",
    "print(f\"X_train shape: {X_train.shape}, y_train shape: {y_train.shape}\")\n",
    "print(f\"X_val shape: {X_val.shape}, y_val shape: {y_val.shape}\")\n",
    "print(f\"X_test shape: {X_test.shape}, y_test shape: {y_test.shape}\")"
   ]
  },
  {
   "cell_type": "code",
   "execution_count": 10,
   "id": "83b5ab1f",
   "metadata": {},
   "outputs": [
    {
     "data": {
      "application/vnd.microsoft.datawrangler.viewer.v0+json": {
       "columns": [
        {
         "name": "index",
         "rawType": "int64",
         "type": "integer"
        },
        {
         "name": "flight_cycle",
         "rawType": "int64",
         "type": "integer"
        },
        {
         "name": "egt_probe_average",
         "rawType": "float64",
         "type": "float"
        },
        {
         "name": "fuel_flw",
         "rawType": "float64",
         "type": "float"
        },
        {
         "name": "core_spd",
         "rawType": "float64",
         "type": "float"
        },
        {
         "name": "zpn12p",
         "rawType": "float64",
         "type": "float"
        },
        {
         "name": "vib_n1_#1_bearing",
         "rawType": "float64",
         "type": "float"
        },
        {
         "name": "vib_n2_#1_bearing",
         "rawType": "float64",
         "type": "float"
        },
        {
         "name": "vib_n2_turbine_frame",
         "rawType": "float64",
         "type": "float"
        },
        {
         "name": "flight_phase_CRUISE",
         "rawType": "bool",
         "type": "boolean"
        },
        {
         "name": "flight_phase_TAKEOFF",
         "rawType": "bool",
         "type": "boolean"
        }
       ],
       "conversionMethod": "pd.DataFrame",
       "ref": "4583d669-ef7f-4290-a276-a80f54cb1193",
       "rows": [
        [
         "78969",
         "975",
         "834.15",
         "1446.0",
         "103.67",
         "80.43",
         "0.1333",
         "0.1",
         "0.4",
         "False",
         "True"
        ],
        [
         "8363",
         "2792",
         "840.875",
         "1360.0",
         "103.75",
         "78.43",
         "0.1267",
         "0.35",
         "0.4",
         "False",
         "True"
        ],
        [
         "50271",
         "3571",
         "901.4",
         "5544.0",
         "105.01",
         "89.56",
         "0.1",
         "0.15",
         "0.15",
         "False",
         "False"
        ],
        [
         "58307",
         "2476",
         "857.975",
         "2381.0",
         "104.34",
         "79.98",
         "0.1",
         "0.7",
         "1.3",
         "False",
         "True"
        ],
        [
         "1213",
         "403",
         "812.725",
         "2784.0",
         "102.72",
         "77.68",
         "0.08",
         "0.325",
         "0.975",
         "False",
         "True"
        ]
       ],
       "shape": {
        "columns": 10,
        "rows": 5
       }
      },
      "text/html": [
       "<div>\n",
       "<style scoped>\n",
       "    .dataframe tbody tr th:only-of-type {\n",
       "        vertical-align: middle;\n",
       "    }\n",
       "\n",
       "    .dataframe tbody tr th {\n",
       "        vertical-align: top;\n",
       "    }\n",
       "\n",
       "    .dataframe thead th {\n",
       "        text-align: right;\n",
       "    }\n",
       "</style>\n",
       "<table border=\"1\" class=\"dataframe\">\n",
       "  <thead>\n",
       "    <tr style=\"text-align: right;\">\n",
       "      <th></th>\n",
       "      <th>flight_cycle</th>\n",
       "      <th>egt_probe_average</th>\n",
       "      <th>fuel_flw</th>\n",
       "      <th>core_spd</th>\n",
       "      <th>zpn12p</th>\n",
       "      <th>vib_n1_#1_bearing</th>\n",
       "      <th>vib_n2_#1_bearing</th>\n",
       "      <th>vib_n2_turbine_frame</th>\n",
       "      <th>flight_phase_CRUISE</th>\n",
       "      <th>flight_phase_TAKEOFF</th>\n",
       "    </tr>\n",
       "  </thead>\n",
       "  <tbody>\n",
       "    <tr>\n",
       "      <th>78969</th>\n",
       "      <td>975</td>\n",
       "      <td>834.150</td>\n",
       "      <td>1446.0</td>\n",
       "      <td>103.67</td>\n",
       "      <td>80.43</td>\n",
       "      <td>0.1333</td>\n",
       "      <td>0.100</td>\n",
       "      <td>0.400</td>\n",
       "      <td>False</td>\n",
       "      <td>True</td>\n",
       "    </tr>\n",
       "    <tr>\n",
       "      <th>8363</th>\n",
       "      <td>2792</td>\n",
       "      <td>840.875</td>\n",
       "      <td>1360.0</td>\n",
       "      <td>103.75</td>\n",
       "      <td>78.43</td>\n",
       "      <td>0.1267</td>\n",
       "      <td>0.350</td>\n",
       "      <td>0.400</td>\n",
       "      <td>False</td>\n",
       "      <td>True</td>\n",
       "    </tr>\n",
       "    <tr>\n",
       "      <th>50271</th>\n",
       "      <td>3571</td>\n",
       "      <td>901.400</td>\n",
       "      <td>5544.0</td>\n",
       "      <td>105.01</td>\n",
       "      <td>89.56</td>\n",
       "      <td>0.1000</td>\n",
       "      <td>0.150</td>\n",
       "      <td>0.150</td>\n",
       "      <td>False</td>\n",
       "      <td>False</td>\n",
       "    </tr>\n",
       "    <tr>\n",
       "      <th>58307</th>\n",
       "      <td>2476</td>\n",
       "      <td>857.975</td>\n",
       "      <td>2381.0</td>\n",
       "      <td>104.34</td>\n",
       "      <td>79.98</td>\n",
       "      <td>0.1000</td>\n",
       "      <td>0.700</td>\n",
       "      <td>1.300</td>\n",
       "      <td>False</td>\n",
       "      <td>True</td>\n",
       "    </tr>\n",
       "    <tr>\n",
       "      <th>1213</th>\n",
       "      <td>403</td>\n",
       "      <td>812.725</td>\n",
       "      <td>2784.0</td>\n",
       "      <td>102.72</td>\n",
       "      <td>77.68</td>\n",
       "      <td>0.0800</td>\n",
       "      <td>0.325</td>\n",
       "      <td>0.975</td>\n",
       "      <td>False</td>\n",
       "      <td>True</td>\n",
       "    </tr>\n",
       "  </tbody>\n",
       "</table>\n",
       "</div>"
      ],
      "text/plain": [
       "       flight_cycle  egt_probe_average  fuel_flw  core_spd  zpn12p  \\\n",
       "78969           975            834.150    1446.0    103.67   80.43   \n",
       "8363           2792            840.875    1360.0    103.75   78.43   \n",
       "50271          3571            901.400    5544.0    105.01   89.56   \n",
       "58307          2476            857.975    2381.0    104.34   79.98   \n",
       "1213            403            812.725    2784.0    102.72   77.68   \n",
       "\n",
       "       vib_n1_#1_bearing  vib_n2_#1_bearing  vib_n2_turbine_frame  \\\n",
       "78969             0.1333              0.100                 0.400   \n",
       "8363              0.1267              0.350                 0.400   \n",
       "50271             0.1000              0.150                 0.150   \n",
       "58307             0.1000              0.700                 1.300   \n",
       "1213              0.0800              0.325                 0.975   \n",
       "\n",
       "       flight_phase_CRUISE  flight_phase_TAKEOFF  \n",
       "78969                False                  True  \n",
       "8363                 False                  True  \n",
       "50271                False                 False  \n",
       "58307                False                  True  \n",
       "1213                 False                  True  "
      ]
     },
     "execution_count": 10,
     "metadata": {},
     "output_type": "execute_result"
    }
   ],
   "source": [
    "X_train.head()"
   ]
  },
  {
   "cell_type": "markdown",
   "id": "fb720442",
   "metadata": {},
   "source": [
    "🧠 Multiple Models for Comparison"
   ]
  },
  {
   "cell_type": "code",
   "execution_count": 31,
   "id": "c529deb5",
   "metadata": {},
   "outputs": [
    {
     "name": "stdout",
     "output_type": "stream",
     "text": [
      "Fitting 5 folds for each of 24 candidates, totalling 120 fits\n",
      "Best Parameters: {'max_depth': None, 'min_samples_leaf': 1, 'min_samples_split': 2, 'n_estimators': 200}\n"
     ]
    }
   ],
   "source": [
    "# Random Forest regression\n",
    "from sklearn.ensemble import RandomForestRegressor\n",
    "from sklearn.model_selection import train_test_split, GridSearchCV\n",
    "from sklearn.metrics import mean_absolute_error, mean_squared_error\n",
    "\n",
    "# model training with Random Forest and cross-validation for hyperparameter tuning\n",
    "\n",
    "param_grid = {\n",
    "    'n_estimators': [100, 200],\n",
    "    'max_depth': [10, 20, None],\n",
    "    'min_samples_split': [2, 5],\n",
    "    'min_samples_leaf': [1, 2],\n",
    "}\n",
    "\n",
    "rf = RandomForestRegressor(random_state=42)\n",
    "\n",
    "grid_search = GridSearchCV(rf, param_grid, cv=5, scoring='neg_mean_absolute_error', n_jobs=-1, verbose=2)\n",
    "grid_search.fit(X_train, y_train)\n",
    "\n",
    "best_rf = grid_search.best_estimator_\n",
    "print(\"Best Parameters:\", grid_search.best_params_)"
   ]
  },
  {
   "cell_type": "code",
   "execution_count": 33,
   "id": "6b11f540",
   "metadata": {},
   "outputs": [
    {
     "name": "stdout",
     "output_type": "stream",
     "text": [
      "Validation MAE: 105.75165446559296, Validation RMSE: 152.64188924672678\n",
      "Validation R^2: 0.9845720609489328\n"
     ]
    }
   ],
   "source": [
    "# Evaluate the model on the validation set\n",
    "y_val_pred = best_rf.predict(X_val)\n",
    "mae_val = mean_absolute_error(y_val, y_val_pred)\n",
    "mse_val = mean_squared_error(y_val, y_val_pred)\n",
    "rmse_val = np.sqrt(mse_val)\n",
    "print(f\"Validation MAE: {mae_val}, Validation RMSE: {rmse_val}\")\n",
    "r2_val = best_rf.score(X_val, y_val)\n",
    "print(f\"Validation R^2: {r2_val}\")"
   ]
  },
  {
   "cell_type": "code",
   "execution_count": null,
   "id": "c0e024a7",
   "metadata": {},
   "outputs": [
    {
     "name": "stdout",
     "output_type": "stream",
     "text": [
      "Test MAE: 106.83426801801802, Test RMSE: 154.6724301666951\n",
      "Test R^2: 0.983982282198074\n"
     ]
    }
   ],
   "source": [
    "# Evaluate the model on the test set\n",
    "y_test_pred = best_rf.predict(X_test)\n",
    "mae_test = mean_absolute_error(y_test, y_test_pred)\n",
    "mse_test = mean_squared_error(y_test, y_test_pred)\n",
    "rmse_test = np.sqrt(mse_test)\n",
    "print(f\"Test MAE: {mae_test}, Test RMSE: {rmse_test}\")\n",
    "r2_test = best_rf.score(X_test, y_test)\n",
    "print(f\"Test R^2: {r2_test}\")\n"
   ]
  },
  {
   "cell_type": "code",
   "execution_count": 35,
   "id": "bf2f1202",
   "metadata": {},
   "outputs": [
    {
     "data": {
      "image/png": "[encoded data removed]",
      "text/plain": [
       "<Figure size 1200x600 with 1 Axes>"
      ]
     },
     "metadata": {},
     "output_type": "display_data"
    }
   ],
   "source": [
    "# Feature Importance\n",
    "importances = best_rf.feature_importances_\n",
    "feature_names = X.columns\n",
    "indices = np.argsort(importances)[::-1]\n",
    "plt.figure(figsize=(12, 6))\n",
    "plt.title(\"Feature Importances\")\n",
    "plt.bar(range(X.shape[1]), importances[indices], align=\"center\")\n",
    "plt.xticks(range(X.shape[1]), feature_names[indices], rotation=90)\n",
    "plt.xlim([-1, X.shape[1]])\n",
    "plt.tight_layout()\n",
    "plt.savefig('feature_importances.png')\n",
    "plt.show()\n"
   ]
  },
  {
   "cell_type": "code",
   "execution_count": 35,
   "id": "241b0a66",
   "metadata": {},
   "outputs": [
    {
     "name": "stdout",
     "output_type": "stream",
     "text": [
      "Fitting 5 folds for each of 6 candidates, totalling 30 fits\n",
      "Best Parameters: {'n_estimators': 300, 'reg_alpha': 0, 'reg_lambda': 10}\n"
     ]
    }
   ],
   "source": [
    "# Try XGBoost\n",
    "import xgboost as xgb\n",
    "from xgboost import XGBRegressor\n",
    "from sklearn.model_selection import GridSearchCV\n",
    "from sklearn.metrics import mean_absolute_error, mean_squared_error\n",
    "from sklearn.model_selection import train_test_split\n",
    "from sklearn.metrics import r2_score\n",
    "from sklearn.preprocessing import StandardScaler\n",
    "\n",
    "# model training with Random Forest and cross-validation for hyperparameter tuning\n",
    "scaler = StandardScaler()\n",
    "X_train_scaled = scaler.fit_transform(X_train)\n",
    "X_val_scaled = scaler.transform(X_val)\n",
    "X_test_scaled = scaler.transform(X_test)\n",
    "# use the most influencing hyperparameters for XGBoost\n",
    "# n_estimators, learning_rate, max_depth, min_child_weight, gamma, subsample, colsample_bytree\n",
    "\n",
    "param_grid = {\n",
    "    'n_estimators': [300],\n",
    "    'reg_alpha': [0, 0.1, 1],  # L1 regularization\n",
    "    'reg_lambda': [1, 10]      # L2 regularization\n",
    "}\n",
    "\n",
    "#make sure that the model generalize well\n",
    "# use cross-validation to find the best hyperparameters\n",
    "\n",
    "xgb_model = XGBRegressor(random_state=42)\n",
    "grid_search = GridSearchCV(xgb_model, param_grid, cv=5, scoring='neg_mean_absolute_error', n_jobs=-1, verbose=2)\n",
    "grid_search.fit(X_train_scaled, y_train)\n",
    "best_xgb = grid_search.best_estimator_\n",
    "print(\"Best Parameters:\", grid_search.best_params_)\n",
    "\n"
   ]
  },
  {
   "cell_type": "code",
   "execution_count": 36,
   "id": "08f6f9ba",
   "metadata": {},
   "outputs": [
    {
     "name": "stdout",
     "output_type": "stream",
     "text": [
      "Validation MAE: 114.6725399917358, Validation RMSE: 154.66671521745536\n",
      "Validation R^2: 0.9841600366091735\n"
     ]
    }
   ],
   "source": [
    "# Evaluate the model on the validation set\n",
    "y_val_pred = best_xgb.predict(X_val_scaled)\n",
    "mae_val = mean_absolute_error(y_val, y_val_pred)    \n",
    "mse_val = mean_squared_error(y_val, y_val_pred)\n",
    "rmse_val = np.sqrt(mse_val)\n",
    "print(f\"Validation MAE: {mae_val}, Validation RMSE: {rmse_val}\")\n",
    "r2_val = r2_score(y_val, y_val_pred)\n",
    "print(f\"Validation R^2: {r2_val}\")\n",
    "\n"
   ]
  },
  {
   "cell_type": "code",
   "execution_count": 37,
   "id": "c74079af",
   "metadata": {},
   "outputs": [
    {
     "name": "stdout",
     "output_type": "stream",
     "text": [
      "Test MAE: 114.23136515692548, Test RMSE: 154.58633119716617\n",
      "Test R^2: 0.9840001098762511\n"
     ]
    }
   ],
   "source": [
    "# Evaluate the model on the test set\n",
    "y_test_pred = best_xgb.predict(X_test_scaled)\n",
    "mae_test = mean_absolute_error(y_test, y_test_pred)\n",
    "mse_test = mean_squared_error(y_test, y_test_pred)\n",
    "rmse_test = np.sqrt(mse_test)\n",
    "print(f\"Test MAE: {mae_test}, Test RMSE: {rmse_test}\")\n",
    "r2_test = r2_score(y_test, y_test_pred)\n",
    "print(f\"Test R^2: {r2_test}\")\n"
   ]
  },
  {
   "cell_type": "code",
   "execution_count": 38,
   "id": "027b4b05",
   "metadata": {},
   "outputs": [
    {
     "data": {
      "image/png": "[encoded data removed]",
      "text/plain": [
       "<Figure size 1200x600 with 1 Axes>"
      ]
     },
     "metadata": {},
     "output_type": "display_data"
    }
   ],
   "source": [
    "# Feature Importance\n",
    "importances = best_xgb.feature_importances_\n",
    "feature_names = X_train.columns\n",
    "indices = np.argsort(importances)[::-1]\n",
    "plt.figure(figsize=(12, 6))\n",
    "plt.title(\"Feature Importances\")\n",
    "plt.bar(range(X_train.shape[1]), importances[indices], align=\"center\")\n",
    "plt.xticks(range(X_train.shape[1]), feature_names[indices], rotation=90)\n",
    "plt.xlim([-1, X_train.shape[1]])\n",
    "plt.tight_layout()\n",
    "plt.savefig('feature_importances_xgb.png')\n",
    "plt.show()"
   ]
  },
  {
   "cell_type": "code",
   "execution_count": 39,
   "id": "338df597",
   "metadata": {},
   "outputs": [
    {
     "data": {
      "text/plain": [
       "['scale_xgb.pkl']"
      ]
     },
     "execution_count": 39,
     "metadata": {},
     "output_type": "execute_result"
    }
   ],
   "source": [
    "# Save the model\n",
    "import joblib\n",
    "joblib.dump(best_xgb, 'best_xgb_model.pkl')\n",
    "# Save the scaler\n",
    "joblib.dump(scaler, 'scale_xgb.pkl')"
   ]
  }
 ],
 "metadata": {
  "kernelspec": {
   "display_name": "Python 3",
   "language": "python",
   "name": "python3"
  },
  "language_info": {
   "codemirror_mode": {
    "name": "ipython",
    "version": 3
   },
   "file_extension": ".py",
   "mimetype": "text/x-python",
   "name": "python",
   "nbconvert_exporter": "python",
   "pygments_lexer": "ipython3",
   "version": "3.10.7"
  }
 },
 "nbformat": 4,
 "nbformat_minor": 5
}
